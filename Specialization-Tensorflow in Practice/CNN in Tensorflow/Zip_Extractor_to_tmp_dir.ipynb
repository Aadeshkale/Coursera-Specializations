{
 "cells": [
  {
   "cell_type": "code",
   "execution_count": 1,
   "metadata": {},
   "outputs": [],
   "source": [
    "import os\n",
    "import zipfile\n",
    "\n"
   ]
  },
  {
   "cell_type": "code",
   "execution_count": 3,
   "metadata": {},
   "outputs": [],
   "source": [
    "def extract_files_from_source(ZIP_SOURCE,DESTINATION):\n",
    "    zip_ref=zipfile.ZipFile(ZIP_SOURCE, 'r')\n",
    "    zip_ref.extractall(DESTINATION)\n",
    "    zip_ref.close()\n",
    "\n",
    "MAIN_SOURCE='/home/prakhar/Downloads/Specialization-Tensorflow in Practice/CNN in Tensorflow'\n",
    "\n",
    "ZIP_SOURCES=['/rps.zip','/rps-test-set.zip']\n",
    "DESTINATION='/tmp/'\n",
    "for sources in ZIP_SOURCES:\n",
    "    extract_files_from_source(MAIN_SOURCE+sources,DESTINATION)\n",
    "\n",
    "\n",
    "\n"
   ]
  },
  {
   "cell_type": "code",
   "execution_count": null,
   "metadata": {},
   "outputs": [],
   "source": []
  }
 ],
 "metadata": {
  "kernelspec": {
   "display_name": "Python 3",
   "language": "python",
   "name": "python3"
  },
  "language_info": {
   "codemirror_mode": {
    "name": "ipython",
    "version": 3
   },
   "file_extension": ".py",
   "mimetype": "text/x-python",
   "name": "python",
   "nbconvert_exporter": "python",
   "pygments_lexer": "ipython3",
   "version": "3.6.8"
  }
 },
 "nbformat": 4,
 "nbformat_minor": 2
}
