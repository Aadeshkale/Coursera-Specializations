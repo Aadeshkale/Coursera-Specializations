{
 "cells": [
  {
   "cell_type": "code",
   "execution_count": 2,
   "metadata": {},
   "outputs": [
    {
     "name": "stdout",
     "output_type": "stream",
     "text": [
      "/home/prakhar/Downloads/Introduction to TensorFlow for AI, ML and DL/../tmp2/mnist.npz\n"
     ]
    }
   ],
   "source": [
    "import warnings\n",
    "warnings.filterwarnings(\"ignore\")\n",
    "import tensorflow as tf\n",
    "from os import path, getcwd, chdir\n",
    "\n",
    "# DO NOT CHANGE THE LINE BELOW. If you are developing in a local\n",
    "# environment, then grab mnist.npz from the Coursera Jupyter Notebook\n",
    "# and place it inside a local folder and edit the path to that location\n",
    "path = f\"{getcwd()}/../tmp2/mnist.npz\"\n",
    "print(path)"
   ]
  },
  {
   "cell_type": "code",
   "execution_count": 10,
   "metadata": {},
   "outputs": [],
   "source": [
    "import keras\n",
    "from keras.models import Sequential\n",
    "from keras.layers import Dense,Flatten\n",
    "from keras.optimizers import Adam\n",
    "\n",
    "def train_mnist():\n",
    "    class myCallback(keras.callbacks.Callback):\n",
    "        def on_epoch_end(self,epoch,logs={}):\n",
    "            if(logs.get('accuracy')>0.99):\n",
    "                print(\"\\nReached 99% accuracy so cancelling training!\")\n",
    "                self.model.stop_training=True\n",
    "    \n",
    "    callbacks=myCallback()\n",
    "    \n",
    "    mnist_dataset = keras.datasets.mnist\n",
    "    (x_train,y_train),(x_test,y_test)=mnist_dataset.load_data()\n",
    "    \n",
    "    x_train=x_train/255.0\n",
    "    x_test=x_test/255.0\n",
    "    \n",
    "    model=Sequential([\n",
    "        Flatten(),\n",
    "        Dense(512,activation=tf.nn.relu),\n",
    "        Dense(10,activation=tf.nn.softmax)\n",
    "    ])\n",
    "    model.compile(\n",
    "        optimizer=Adam(),\n",
    "        loss = 'sparse_categorical_crossentropy',\n",
    "        metrics=['accuracy'],\n",
    "    )\n",
    "    history=model.fit(x_train,y_train,epochs=10,callbacks=[callbacks])\n",
    "    return(history.epoch,history.history['accuracy'][-1])\n",
    "    \n",
    "    \n",
    "    "
   ]
  },
  {
   "cell_type": "code",
   "execution_count": 11,
   "metadata": {},
   "outputs": [
    {
     "name": "stdout",
     "output_type": "stream",
     "text": [
      "Epoch 1/10\n",
      "60000/60000 [==============================] - 14s 233us/step - loss: 0.1986 - accuracy: 0.9410\n",
      "Epoch 2/10\n",
      "60000/60000 [==============================] - 14s 229us/step - loss: 0.0799 - accuracy: 0.9755\n",
      "Epoch 3/10\n",
      "60000/60000 [==============================] - 14s 230us/step - loss: 0.0525 - accuracy: 0.9836\n",
      "Epoch 4/10\n",
      "60000/60000 [==============================] - 14s 230us/step - loss: 0.0357 - accuracy: 0.9886\n",
      "Epoch 5/10\n",
      "60000/60000 [==============================] - 14s 231us/step - loss: 0.0282 - accuracy: 0.9908\n",
      "\n",
      "Reached 99% accuracy so cancelling training!\n",
      "[0, 1, 2, 3, 4]\n",
      "0.99075\n"
     ]
    }
   ],
   "source": [
    "epoch,accuracy=train_mnist()\n",
    "print(epoch)\n",
    "print(accuracy)"
   ]
  },
  {
   "cell_type": "code",
   "execution_count": 13,
   "metadata": {},
   "outputs": [
    {
     "name": "stdout",
     "output_type": "stream",
     "text": [
      "<module 'keras.datasets.mnist' from '/home/prakhar/.local/lib/python3.6/site-packages/keras/datasets/mnist.py'>\n"
     ]
    }
   ],
   "source": [
    "mnist_dataset = keras.datasets.mnist\n",
    "print(mnist_dataset)\n",
    "#mnist_dataset.load_data(path=path)"
   ]
  },
  {
   "cell_type": "code",
   "execution_count": null,
   "metadata": {},
   "outputs": [],
   "source": []
  }
 ],
 "metadata": {
  "kernelspec": {
   "display_name": "Python 3",
   "language": "python",
   "name": "python3"
  },
  "language_info": {
   "codemirror_mode": {
    "name": "ipython",
    "version": 3
   },
   "file_extension": ".py",
   "mimetype": "text/x-python",
   "name": "python",
   "nbconvert_exporter": "python",
   "pygments_lexer": "ipython3",
   "version": "3.6.7"
  }
 },
 "nbformat": 4,
 "nbformat_minor": 4
}
