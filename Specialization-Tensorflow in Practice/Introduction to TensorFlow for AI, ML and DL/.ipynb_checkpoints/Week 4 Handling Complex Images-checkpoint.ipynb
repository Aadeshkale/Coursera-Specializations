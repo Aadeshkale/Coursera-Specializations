{
 "cells": [
  {
   "cell_type": "code",
   "execution_count": 1,
   "metadata": {},
   "outputs": [
    {
     "name": "stderr",
     "output_type": "stream",
     "text": [
      "/home/prakhar/.local/lib/python3.6/site-packages/tensorflow/python/framework/dtypes.py:516: FutureWarning: Passing (type, 1) or '1type' as a synonym of type is deprecated; in a future version of numpy, it will be understood as (type, (1,)) / '(1,)type'.\n",
      "  _np_qint8 = np.dtype([(\"qint8\", np.int8, 1)])\n",
      "/home/prakhar/.local/lib/python3.6/site-packages/tensorflow/python/framework/dtypes.py:517: FutureWarning: Passing (type, 1) or '1type' as a synonym of type is deprecated; in a future version of numpy, it will be understood as (type, (1,)) / '(1,)type'.\n",
      "  _np_quint8 = np.dtype([(\"quint8\", np.uint8, 1)])\n",
      "/home/prakhar/.local/lib/python3.6/site-packages/tensorflow/python/framework/dtypes.py:518: FutureWarning: Passing (type, 1) or '1type' as a synonym of type is deprecated; in a future version of numpy, it will be understood as (type, (1,)) / '(1,)type'.\n",
      "  _np_qint16 = np.dtype([(\"qint16\", np.int16, 1)])\n",
      "/home/prakhar/.local/lib/python3.6/site-packages/tensorflow/python/framework/dtypes.py:519: FutureWarning: Passing (type, 1) or '1type' as a synonym of type is deprecated; in a future version of numpy, it will be understood as (type, (1,)) / '(1,)type'.\n",
      "  _np_quint16 = np.dtype([(\"quint16\", np.uint16, 1)])\n",
      "/home/prakhar/.local/lib/python3.6/site-packages/tensorflow/python/framework/dtypes.py:520: FutureWarning: Passing (type, 1) or '1type' as a synonym of type is deprecated; in a future version of numpy, it will be understood as (type, (1,)) / '(1,)type'.\n",
      "  _np_qint32 = np.dtype([(\"qint32\", np.int32, 1)])\n",
      "/home/prakhar/.local/lib/python3.6/site-packages/tensorflow/python/framework/dtypes.py:525: FutureWarning: Passing (type, 1) or '1type' as a synonym of type is deprecated; in a future version of numpy, it will be understood as (type, (1,)) / '(1,)type'.\n",
      "  np_resource = np.dtype([(\"resource\", np.ubyte, 1)])\n"
     ]
    },
    {
     "name": "stdout",
     "output_type": "stream",
     "text": [
      "--2020-01-19 16:28:08--  https://storage.googleapis.com/laurencemoroney-blog.appspot.com/happy-or-sad.zip\n",
      "Resolving storage.googleapis.com (storage.googleapis.com)... 2404:6800:4002:810::2010, 172.217.166.16\n",
      "Connecting to storage.googleapis.com (storage.googleapis.com)|2404:6800:4002:810::2010|:443... connected.\n"
     ]
    },
    {
     "name": "stderr",
     "output_type": "stream",
     "text": [
      "/home/prakhar/.local/lib/python3.6/site-packages/tensorboard/compat/tensorflow_stub/dtypes.py:541: FutureWarning: Passing (type, 1) or '1type' as a synonym of type is deprecated; in a future version of numpy, it will be understood as (type, (1,)) / '(1,)type'.\n",
      "  _np_qint8 = np.dtype([(\"qint8\", np.int8, 1)])\n",
      "/home/prakhar/.local/lib/python3.6/site-packages/tensorboard/compat/tensorflow_stub/dtypes.py:542: FutureWarning: Passing (type, 1) or '1type' as a synonym of type is deprecated; in a future version of numpy, it will be understood as (type, (1,)) / '(1,)type'.\n",
      "  _np_quint8 = np.dtype([(\"quint8\", np.uint8, 1)])\n",
      "/home/prakhar/.local/lib/python3.6/site-packages/tensorboard/compat/tensorflow_stub/dtypes.py:543: FutureWarning: Passing (type, 1) or '1type' as a synonym of type is deprecated; in a future version of numpy, it will be understood as (type, (1,)) / '(1,)type'.\n",
      "  _np_qint16 = np.dtype([(\"qint16\", np.int16, 1)])\n",
      "/home/prakhar/.local/lib/python3.6/site-packages/tensorboard/compat/tensorflow_stub/dtypes.py:544: FutureWarning: Passing (type, 1) or '1type' as a synonym of type is deprecated; in a future version of numpy, it will be understood as (type, (1,)) / '(1,)type'.\n",
      "  _np_quint16 = np.dtype([(\"quint16\", np.uint16, 1)])\n",
      "/home/prakhar/.local/lib/python3.6/site-packages/tensorboard/compat/tensorflow_stub/dtypes.py:545: FutureWarning: Passing (type, 1) or '1type' as a synonym of type is deprecated; in a future version of numpy, it will be understood as (type, (1,)) / '(1,)type'.\n",
      "  _np_qint32 = np.dtype([(\"qint32\", np.int32, 1)])\n",
      "/home/prakhar/.local/lib/python3.6/site-packages/tensorboard/compat/tensorflow_stub/dtypes.py:550: FutureWarning: Passing (type, 1) or '1type' as a synonym of type is deprecated; in a future version of numpy, it will be understood as (type, (1,)) / '(1,)type'.\n",
      "  np_resource = np.dtype([(\"resource\", np.ubyte, 1)])\n"
     ]
    },
    {
     "name": "stdout",
     "output_type": "stream",
     "text": [
      "HTTP request sent, awaiting response... 200 OK\n",
      "Length: 2670333 (2.5M) [application/zip]\n",
      "Saving to: ‘/tmp/happy-or-sad.zip’\n",
      "\n",
      "/tmp/happy-or-sad.z 100%[===================>]   2.55M  2.05MB/s    in 1.2s    \n",
      "\n",
      "2020-01-19 16:28:10 (2.05 MB/s) - ‘/tmp/happy-or-sad.zip’ saved [2670333/2670333]\n",
      "\n"
     ]
    }
   ],
   "source": [
    "import tensorflow as tf\n",
    "import os\n",
    "import zipfile\n",
    "\n",
    "\n",
    "DESIRED_ACCURACY = 0.999\n",
    "\n",
    "!wget --no-check-certificate \\\n",
    "    \"https://storage.googleapis.com/laurencemoroney-blog.appspot.com/happy-or-sad.zip\" \\\n",
    "    -O \"/tmp/happy-or-sad.zip\"\n",
    "\n",
    "zip_ref = zipfile.ZipFile(\"/tmp/happy-or-sad.zip\", 'r')\n",
    "zip_ref.extractall(\"/tmp/h-or-s\")\n",
    "zip_ref.close()"
   ]
  },
  {
   "cell_type": "code",
   "execution_count": 13,
   "metadata": {},
   "outputs": [],
   "source": [
    "import keras\n",
    "from keras.models import Sequential\n",
    "from keras.layers import Dense,Flatten,MaxPooling2D,Conv2D\n",
    "from keras.optimizers import RMSprop\n",
    "from keras.preprocessing.image import ImageDataGenerator\n",
    "\n",
    "def train_happy_sad_model():\n",
    "    DESIRED_ACCURACY=0.999\n",
    "    \n",
    "    class myCallback(keras.callbacks.Callback):\n",
    "        def on_epoch_end(self,epoch,logs={}):\n",
    "            if(logs.get('accuracy')>DESIRED_ACCURACY):\n",
    "                print(\"\\nReached \"+str(DESIRED_ACCURACY)+\"% accuracy so cancelling training!\")\n",
    "                self.model.stop_training=True\n",
    "    \n",
    "    callbacks=myCallback()\n",
    "    model=Sequential([\n",
    "        Conv2D(16,(3,3),activation='relu',input_shape=(150,150,3)),\n",
    "        MaxPooling2D(2,2),\n",
    "        Conv2D(32,(3,3),activation='relu'),\n",
    "        MaxPooling2D(2,2),\n",
    "        Conv2D(32,(3,3),activation='relu'),\n",
    "        MaxPooling2D(2,2),\n",
    "        \n",
    "        Flatten(),\n",
    "        Dense(512,activation='relu'),\n",
    "        Dense(1,activation='sigmoid')\n",
    "        \n",
    "    ])\n",
    "    #print(model.summary())\n",
    "    temp_model=model\n",
    "    model.compile(\n",
    "        optimizer=RMSprop(lr=0.001),\n",
    "        loss='binary_crossentropy',\n",
    "        metrics=['accuracy'])\n",
    "    train_datagen=ImageDataGenerator(rescale=1/255)\n",
    "    train_generator=train_datagen.flow_from_directory(\n",
    "        \"/tmp/h-or-s\",\n",
    "        target_size=(150,150),\n",
    "        batch_size=10,\n",
    "        class_mode='binary')\n",
    "    \n",
    "    history=model.fit_generator(\n",
    "            train_generator,\n",
    "            steps_per_epoch=2,epochs=20,verbose=1,\n",
    "            callbacks=[callbacks])\n",
    "    return(temp_model,history.history['accuracy'][-1])"
   ]
  },
  {
   "cell_type": "code",
   "execution_count": 14,
   "metadata": {},
   "outputs": [
    {
     "name": "stdout",
     "output_type": "stream",
     "text": [
      "Found 80 images belonging to 2 classes.\n",
      "Epoch 1/20\n",
      "2/2 [==============================] - 0s 250ms/step - loss: 4.5864 - accuracy: 0.4500\n",
      "Epoch 2/20\n",
      "2/2 [==============================] - 0s 218ms/step - loss: 0.9337 - accuracy: 0.4000\n",
      "Epoch 3/20\n",
      "2/2 [==============================] - 0s 205ms/step - loss: 0.5652 - accuracy: 0.6500\n",
      "Epoch 4/20\n",
      "2/2 [==============================] - 0s 228ms/step - loss: 0.6439 - accuracy: 0.5500\n",
      "Epoch 5/20\n",
      "2/2 [==============================] - 0s 169ms/step - loss: 0.5423 - accuracy: 0.7000\n",
      "Epoch 6/20\n",
      "2/2 [==============================] - 0s 235ms/step - loss: 0.4217 - accuracy: 0.8000\n",
      "Epoch 7/20\n",
      "2/2 [==============================] - 0s 182ms/step - loss: 0.2368 - accuracy: 0.9500\n",
      "Epoch 8/20\n",
      "2/2 [==============================] - 0s 151ms/step - loss: 0.0852 - accuracy: 1.0000\n",
      "\n",
      "Reached 0.999% accuracy so cancelling training!\n",
      "Model: \"sequential_8\"\n",
      "_________________________________________________________________\n",
      "Layer (type)                 Output Shape              Param #   \n",
      "=================================================================\n",
      "conv2d_22 (Conv2D)           (None, 148, 148, 16)      448       \n",
      "_________________________________________________________________\n",
      "max_pooling2d_22 (MaxPooling (None, 74, 74, 16)        0         \n",
      "_________________________________________________________________\n",
      "conv2d_23 (Conv2D)           (None, 72, 72, 32)        4640      \n",
      "_________________________________________________________________\n",
      "max_pooling2d_23 (MaxPooling (None, 36, 36, 32)        0         \n",
      "_________________________________________________________________\n",
      "conv2d_24 (Conv2D)           (None, 34, 34, 32)        9248      \n",
      "_________________________________________________________________\n",
      "max_pooling2d_24 (MaxPooling (None, 17, 17, 32)        0         \n",
      "_________________________________________________________________\n",
      "flatten_8 (Flatten)          (None, 9248)              0         \n",
      "_________________________________________________________________\n",
      "dense_15 (Dense)             (None, 512)               4735488   \n",
      "_________________________________________________________________\n",
      "dense_16 (Dense)             (None, 1)                 513       \n",
      "=================================================================\n",
      "Total params: 4,750,337\n",
      "Trainable params: 4,750,337\n",
      "Non-trainable params: 0\n",
      "_________________________________________________________________\n",
      "None\n"
     ]
    }
   ],
   "source": [
    "m,acc=train_happy_sad_model()\n",
    "print(m.summary())"
   ]
  },
  {
   "cell_type": "code",
   "execution_count": null,
   "metadata": {},
   "outputs": [],
   "source": []
  },
  {
   "cell_type": "code",
   "execution_count": null,
   "metadata": {},
   "outputs": [],
   "source": []
  }
 ],
 "metadata": {
  "kernelspec": {
   "display_name": "Python 3",
   "language": "python",
   "name": "python3"
  },
  "language_info": {
   "codemirror_mode": {
    "name": "ipython",
    "version": 3
   },
   "file_extension": ".py",
   "mimetype": "text/x-python",
   "name": "python",
   "nbconvert_exporter": "python",
   "pygments_lexer": "ipython3",
   "version": "3.6.7"
  }
 },
 "nbformat": 4,
 "nbformat_minor": 2
}
