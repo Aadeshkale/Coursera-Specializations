{
 "cells": [
  {
   "cell_type": "code",
   "execution_count": 1,
   "metadata": {},
   "outputs": [],
   "source": [
    "import warnings\n",
    "warnings.filterwarnings(\"ignore\")\n",
    "import tensorflow as tf\n",
    "from os import path, getcwd, chdir\n"
   ]
  },
  {
   "cell_type": "code",
   "execution_count": 2,
   "metadata": {},
   "outputs": [
    {
     "name": "stderr",
     "output_type": "stream",
     "text": [
      "Using TensorFlow backend.\n"
     ]
    }
   ],
   "source": [
    "import keras\n",
    "from keras.models import Sequential\n",
    "from keras.layers import Dense,Flatten,MaxPooling2D,Conv2D\n",
    "from keras.optimizers import Adam\n",
    "\n",
    "\n",
    "def train_mnist():\n",
    "    class myCallback(keras.callbacks.Callback):\n",
    "        def on_epoch_end(self,epoch,logs={}):\n",
    "            if(logs.get('accuracy')>0.998):\n",
    "                print(\"\\nReached 99.8% accuracy so cancelling training!\")\n",
    "                self.model.stop_training=True\n",
    "    \n",
    "    callbacks=myCallback()\n",
    "    \n",
    "    mnist_dataset = keras.datasets.mnist\n",
    "    (x_train,y_train),(x_test,y_test)=mnist_dataset.load_data()\n",
    "    '''\n",
    "    x_train=training_images\n",
    "    y_train=training_labels\n",
    "    x_test=test_images\n",
    "    y_test=test_labels\n",
    "    '''\n",
    "    \n",
    "    \n",
    "    x_train=x_train/255.0\n",
    "    x_test=x_test/255.0\n",
    "    \n",
    "    x_train=x_train.reshape(60000,28,28,1)\n",
    "    x_test=x_test.reshape(10000,28,28,1)\n",
    "    \n",
    "    model=Sequential([\n",
    "        Conv2D(32,(3,3),activation='relu',input_shape=(28,28,1)),#64=>32\n",
    "        MaxPooling2D(2,2),\n",
    "        \n",
    "        Flatten(),\n",
    "        Dense(128,activation='relu'),#512=>128\n",
    "        Dense(10,activation='softmax')\n",
    "    ])\n",
    "    model.compile(\n",
    "        optimizer=Adam(),\n",
    "        loss = 'sparse_categorical_crossentropy',\n",
    "        metrics=['accuracy'],\n",
    "    )\n",
    "    history=model.fit(x_train,y_train,epochs=20,callbacks=[callbacks])\n",
    "    return(history.epoch,history.history['accuracy'][-1])\n",
    "    \n",
    "    \n",
    "    "
   ]
  },
  {
   "cell_type": "code",
   "execution_count": 3,
   "metadata": {},
   "outputs": [
    {
     "name": "stdout",
     "output_type": "stream",
     "text": [
      "WARNING:tensorflow:From /home/prakhar/.local/lib/python3.6/site-packages/keras/backend/tensorflow_backend.py:4070: The name tf.nn.max_pool is deprecated. Please use tf.nn.max_pool2d instead.\n",
      "\n",
      "WARNING:tensorflow:From /home/prakhar/.local/lib/python3.6/site-packages/keras/backend/tensorflow_backend.py:422: The name tf.global_variables is deprecated. Please use tf.compat.v1.global_variables instead.\n",
      "\n",
      "Epoch 1/20\n",
      "60000/60000 [==============================] - 37s 618us/step - loss: 0.1457 - accuracy: 0.9562\n",
      "Epoch 2/20\n",
      "60000/60000 [==============================] - 36s 600us/step - loss: 0.0491 - accuracy: 0.9853\n",
      "Epoch 3/20\n",
      "60000/60000 [==============================] - 35s 582us/step - loss: 0.0309 - accuracy: 0.9903\n",
      "Epoch 4/20\n",
      "60000/60000 [==============================] - 36s 595us/step - loss: 0.0195 - accuracy: 0.9938\n",
      "Epoch 5/20\n",
      "60000/60000 [==============================] - 36s 593us/step - loss: 0.0145 - accuracy: 0.9953\n",
      "Epoch 6/20\n",
      "60000/60000 [==============================] - 38s 630us/step - loss: 0.0096 - accuracy: 0.9969\n",
      "Epoch 7/20\n",
      "60000/60000 [==============================] - 35s 581us/step - loss: 0.0078 - accuracy: 0.9973\n",
      "Epoch 8/20\n",
      "60000/60000 [==============================] - 37s 614us/step - loss: 0.0065 - accuracy: 0.9979\n",
      "Epoch 9/20\n",
      "60000/60000 [==============================] - 35s 580us/step - loss: 0.0056 - accuracy: 0.9982\n",
      "\n",
      "Reached 99.8% accuracy so cancelling training!\n",
      "No of epochs taken =  9\n",
      "Final Accuracy reached = 0.9981667\n"
     ]
    }
   ],
   "source": [
    "epochs,accuracy=train_mnist()\n",
    "print(\"No of epochs taken = \",len(epochs))\n",
    "print(\"Final Accuracy reached =\",accuracy)"
   ]
  },
  {
   "cell_type": "code",
   "execution_count": null,
   "metadata": {},
   "outputs": [],
   "source": []
  }
 ],
 "metadata": {
  "kernelspec": {
   "display_name": "Python 3",
   "language": "python",
   "name": "python3"
  },
  "language_info": {
   "codemirror_mode": {
    "name": "ipython",
    "version": 3
   },
   "file_extension": ".py",
   "mimetype": "text/x-python",
   "name": "python",
   "nbconvert_exporter": "python",
   "pygments_lexer": "ipython3",
   "version": "3.6.7"
  }
 },
 "nbformat": 4,
 "nbformat_minor": 4
}
